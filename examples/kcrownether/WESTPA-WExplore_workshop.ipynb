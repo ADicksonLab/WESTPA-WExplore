{
 "cells": [
  {
   "cell_type": "markdown",
   "metadata": {},
   "source": [
    "# WESTPA-WExplore plugin workshop\n",
    "---\n",
    "*WESTPA Workshop, University of Pittsburgh, Aug 2 2018*  \n",
    "by  \n",
    "Alex Dickson, Michigan State University  \n",
    "Audrey Pratt, University of Pittsburgh\n",
    "\n",
    "**Special thanks to Joshua Adelman for doing the heavy lifting back in 2014!**\n",
    "\n",
    "---\n",
    "\n",
    "## Overview\n",
    "\n",
    "This workshop will describe the installation, setup, runtime and analysis of the application of the `WESTPA-WExplore` plugin.  As a model system, we will use the $K^+$/18-Crown-6 Ether system from [this publication](https://pubs.acs.org/doi/abs/10.1021/ct100626x). \n",
    "\n",
    "![system](system-01.png)\n",
    "\n",
    "### Dependencies\n",
    "\n",
    "**If you are running this on H2P, then the install scripts will take care of everything.**  If you are following along on your laptop, or another machine you will need the following:\n",
    "\n",
    "- `GROMACS` to run dynamics on CPUs.  [It can be found here](http://www.gromacs.org/Downloads).  \n",
    "- `WESTPA` should already be installed.  [Link](https://github.com/westpa/westpa/wiki/Installing-WESTPA)\n",
    "- A `conda` environment will be created to run this example. [Download anaconda python here](https://conda.io/docs/user-guide/install/download.html) \n",
    "\n",
    "We assume that the user has some familiarity with bash and python.\n",
    "\n",
    "### A note on this notebook:\n",
    "\n",
    "This will give commands that must be executed in bash like so:\n",
    "```bash\n",
    "~/WESTPA-WExplore/examples/kcrownether> echo \"this is a bash command\"\n",
    "```\n",
    "where `~/WESTPA-WExplore/examples/kcrownether` is the directory from which this command should be run.  Later on in this notebook there will be some cells with python code which can be run directly from this `jupyter` notebook, but these require that the environment is properly set, so it might be required to close and re-open this notebook after the `WESTPA-WExplore` plugin is properly installed."
   ]
  },
  {
   "cell_type": "markdown",
   "metadata": {},
   "source": [
    "---\n",
    "\n",
    "## Installation\n",
    "\n",
    "To install the plugin, clone the repository from your home directory, or from where you wish to install the plugin:\n",
    "```bash\n",
    "~> git clone https://github.com/ADicksonLab/WESTPA-WExplore.git\n",
    "```\n",
    "change to the WESTPA-WExplore directory:\n",
    "```bash\n",
    "~> cd WESTPA-WExplore\n",
    "```\n",
    "create the `conda` environment and install the package as follows:\n",
    "```bash\n",
    "~/WESTPA-WExplore> source create_conda_environment.sh\n",
    "```\n",
    "This last command will require you to agree to a lot of things.  **Note that if you are on your own machine, you can likely comment out the `module load python/anaconda2.7-4.2.0` command**."
   ]
  },
  {
   "cell_type": "markdown",
   "metadata": {},
   "source": [
    "---\n",
    "## K-crown-ether example\n",
    "\n",
    "Now switch to the kcrownether directory:\n",
    "```bash\n",
    "~/WESTPA-WExplore> cd examples/kcrownether\n",
    "```\n",
    "and let's look at some of the files here, and see how we can change parameters that are unique to the `WESTPA-WExplore` plugin.\n",
    "\n",
    "### Distance metric\n",
    "\n",
    "The distance metric here is the \"ligand unbinding\" distance metric, where the ligand is the K$^+$ atom.  The distance metric is written as the function `dfunc` in the file `system.py`:\n",
    "\n",
    "```python\n",
    "def dfunc(p, centers):\n",
    "    d = np.array([np.linalg.norm((p - c)) for c in centers], dtype=np.float32)\n",
    "\n",
    "    # the above is the Frobenius norm, for RMSD divide by N^1/2, where N is number of atoms      \n",
    "    # (Note that p has length 3*N)\n",
    "    d /= math.sqrt(len(p)/3)\n",
    "\n",
    "    return d\n",
    "```\n",
    "\n",
    "The `p` array here is the coordinates of the K+ atom (e.g. the X, Y, Z positions), after alignment to the crownether.  These are the `pcoord` values that will be saved to `west.h5`.\n",
    "\n",
    "### Region sizes\n",
    "\n",
    "Here we use a three-level hierarchy of Voronoi polyhedra, which are each defined by an \"image\".  The coordinates of these regions will also be saved to `west.h5`.  The region hierarchy is also set up in `west.cfg`:\n",
    "\n",
    "```python\n",
    "class System(WESTSystem):\n",
    "    def initialize(self):\n",
    "        # The number of dimensions should be the number of atoms that we have multipled by 3.                                    \n",
    "        self.pcoord_ndim = 3\n",
    "        self.pcoord_len = 11\n",
    "        self.pcoord_dtype = np.float32\n",
    "\n",
    "        self.bin_mapper = wexplore.WExploreBinMapper(n_regions=[10,10,10], d_cut=[5, 2.0, 0.8], dfunc=dfunc)\n",
    "        # The initial center is on the coordinates of one of the basis states.                                                   \n",
    "        init_struct = np.loadtxt('18-crown-6-K+.pdb', dtype=str)\n",
    "        atom_coords = init_struct[5:8]\n",
    "        atom_coords = atom_coords.astype(float).flatten()\n",
    "        self.bin_mapper.centers = [atom_coords]\n",
    "        self.bin_mapper.add_bin(None, 0)\n",
    "        self.max_replicas = 48\n",
    "        self.bin_target_counts = self.bin_mapper.balance_replicas(self.max_replicas,\n",
    "                                np.array([0,], np.int_))\n",
    "```\n",
    "The bin mapper initialization contains both the distance cutoffs (`d_cut`) and the maximum branching numbers (`n_regions`) at each level of the hierarchy.  To initialize the bin mapper we need a single region, we use the coordinates of the K$^+$ ion from `18-crown-6-k+.pdb`.\n",
    "\n",
    "### Extracting coordinates for the distance metric\n",
    "\n",
    "A big challenge is extracting information from the MD engine (here, `GROMACS`) to use to compute our distances.  Here we need to align structures to a template using the crown-ether atoms, and then get the coordinates of the ligand, which in our case is the single K$^+$ atom.  These coordinates are then fed to the `pcoord_loader` in `system.py`.  \n",
    "\n",
    "The coordinate extraction happens in three different places: `init.sh` (to get the initial image), `get_pcoord.sh` and `runseg.sh`.  Here is the code from `runseg.sh`:\n",
    "\n",
    "```bash\n",
    "echo -e \"4 \\n\" | gmx trjconv    -f nojump.xtc  -s seg.tpr -n $NDX -o pcoord.pdb || exit 1\n",
    "\n",
    "# Copy in the imaged trajectory as the progress coordinate.  We'll use a python  \n",
    "# pcoord loader to analyze the RMSD and go from there.                                                                           \n",
    "echo \"2 9\" | gmx trjconv -fit rot+trans -s bound_state.tpr -f pcoord.pdb -o pcoord_align.pdb\n",
    "cat pcoord_align.pdb | grep '^ATOM' | grep K\\+ > $WEST_PCOORD_RETURN || exit 1\n",
    "```\n",
    "\n",
    "### Running the example\n",
    "\n",
    "OK let's go!  First, we initialize the run environment:\n",
    "```bash\n",
    "~/WESTPA-WExplore/examples/kcrownether> ./init.sh\n",
    "```\n",
    "then we submit a job using SLURM:\n",
    "```bash\n",
    "~/WESTPA-WExplore/examples/kcrownether> sbatch ./runwe_h2p.sh\n",
    "```\n",
    "\n",
    "Or, if you are running locally, you can directly execute the run script:\n",
    "```bash\n",
    "~/WESTPA-WExplore/examples/kcrownether> ./run.sh --parallel --n_workers 8\n",
    "```"
   ]
  },
  {
   "cell_type": "markdown",
   "metadata": {},
   "source": [
    "---\n",
    "## K-crown-ether analysis\n",
    "\n",
    "Great!  Now that our job has finished, we can look at `west.log`.  If you ran a long run, you might have output that looks like this:\n",
    "\n",
    "```\n",
    "Fri Jul 27 00:02:23 2018\n",
    "Iteration 300 (300 requested)\n",
    "Beginning iteration 300\n",
    "48 segments remain in iteration 300 (48 total)\n",
    "45 of 45 (100.000000%) active bins are populated\n",
    "per-bin minimum non-zero probability:       4.92423e-14\n",
    "per-bin maximum probability:                0.850158\n",
    "per-bin probability dynamic range (kT):     30.4797\n",
    "per-segment minimum non-zero probability:   4.92423e-14\n",
    "per-segment maximum non-zero probability:   0.486652\n",
    "per-segment probability dynamic range (kT): 29.9218\n",
    "norm = 1, error in norm = 0 (0*epsilon)\n",
    "--wexplore-stats--------------------\n",
    "wallclock time: 0.655 s\n",
    "\n",
    "Level 0: 10 cells (10 max)\n",
    "Level 1: 100 cells (100 max)\n",
    "Level 2: 978 cells (1000 max)\n",
    "------------------------------------\n",
    "Iteration wallclock: 0:01:19.324861, cputime: 0:13:44.526626\n",
    "\n",
    "\n",
    "Fri Jul 27 00:03:42 2018\n",
    "WEST run complete.\n",
    "```\n",
    "\n",
    "The `wexplore-stats` section shows how many regions were created.\n",
    "\n",
    "WExplore used a three-level hierarchy of Voronoi polyhedra, which are each defined by an \"image\". Here we save the coordinates of all the images in the variables `big_regions`, `med_regions` and `sml_regions`.  We measure distances between the different sets of images, and we end the demonstration by writing trajectories containing these coordinates to \"dcd\" files, which can be visualized in VMD or pymol.\n",
    "\n",
    "**Note: If your simulation didn't work and you want to analyze a pre-made one, unpack `long_run.tgz` and change to the `long_run` directory:**\n",
    "\n",
    "```bash\n",
    "tar xzf long_run.tgz\n",
    "cd long_run\n",
    "```"
   ]
  },
  {
   "cell_type": "markdown",
   "metadata": {},
   "source": [
    "---\n",
    "To run some analysis code, let's import some things, and add some `westpa` things to the path:"
   ]
  },
  {
   "cell_type": "code",
   "execution_count": 2,
   "metadata": {
    "collapsed": false
   },
   "outputs": [],
   "source": [
    "import numpy as np\n",
    "import h5py\n",
    "import matplotlib.pyplot as plt\n",
    "\n",
    "import os\n",
    "import sys\n",
    "\n",
    "WEST_ROOT = os.environ['WEST_ROOT']\n",
    "for lib in ['lib/wwmgr', 'src', 'lib/west_tools']:\n",
    "    path = os.path.join(WEST_ROOT, lib)\n",
    "    if path not in sys.path:\n",
    "        sys.path.append(path)\n",
    "\n",
    "import west\n",
    "        \n",
    "%matplotlib inline"
   ]
  },
  {
   "cell_type": "markdown",
   "metadata": {},
   "source": [
    "The data manager helps access simulation data written to the `west.h5` file:"
   ]
  },
  {
   "cell_type": "code",
   "execution_count": 3,
   "metadata": {
    "collapsed": true
   },
   "outputs": [],
   "source": [
    "data_manager = west.rc.get_data_manager()\n",
    "data_manager.open_backing(mode='r')"
   ]
  },
  {
   "cell_type": "code",
   "execution_count": 5,
   "metadata": {
    "collapsed": false
   },
   "outputs": [],
   "source": [
    "string_hashes = data_manager.we_h5file['bin_topologies']['index'][:]['hash']\n",
    "all_mappers = []\n",
    "for si, shash in enumerate(string_hashes):\n",
    "    bin_mapper = data_manager.get_bin_mapper(shash)\n",
    "    all_mappers.append(bin_mapper)"
   ]
  },
  {
   "cell_type": "markdown",
   "metadata": {},
   "source": [
    "Each mapper holds the coordinates of all of the images.  Let's examine the latest one:"
   ]
  },
  {
   "cell_type": "code",
   "execution_count": 6,
   "metadata": {
    "collapsed": false
   },
   "outputs": [],
   "source": [
    "latest_mapper = all_mappers[-1]\n",
    "level_inds = latest_mapper.level_indices"
   ]
  },
  {
   "cell_type": "code",
   "execution_count": 14,
   "metadata": {
    "collapsed": false
   },
   "outputs": [
    {
     "name": "stdout",
     "output_type": "stream",
     "text": [
      "There are 10 big regions, 100 medium regions, and 978 large regions\n"
     ]
    }
   ],
   "source": [
    "# get region indices\n",
    "biggest_regions_inds = level_inds[0]\n",
    "medium_regions_inds = level_inds[1]\n",
    "small_regions_inds = level_inds[2]\n",
    "\n",
    "# find region centers\n",
    "big_regions = latest_mapper.fetch_centers(biggest_regions_inds)\n",
    "med_regions = latest_mapper.fetch_centers(medium_regions_inds)\n",
    "sml_regions = latest_mapper.fetch_centers(small_regions_inds)\n",
    "\n",
    "print(\"There are {0} big regions, {1} medium regions, and {2} large regions\"\n",
    "      .format(len(big_regions),len(med_regions),len(sml_regions)))"
   ]
  },
  {
   "cell_type": "markdown",
   "metadata": {},
   "source": [
    "Now let's calculate the distance between all of the medium regions:"
   ]
  },
  {
   "cell_type": "code",
   "execution_count": 12,
   "metadata": {
    "collapsed": false
   },
   "outputs": [],
   "source": [
    "from system import dfunc\n",
    "\n",
    "n_med = len(med_regions)\n",
    "dists = np.zeros((n_med,n_med))\n",
    "for i, x in enumerate(med_regions):\n",
    "    for j, y in enumerate(med_regions):\n",
    "        dists[i,j] = dfunc(x,[y])"
   ]
  },
  {
   "cell_type": "code",
   "execution_count": 13,
   "metadata": {
    "collapsed": false
   },
   "outputs": [
    {
     "data": {
      "text/plain": [
       "array([[  0.        ,   2.0325439 ,   2.16072845, ...,  11.98263073,\n",
       "         14.05814457,   9.71697235],\n",
       "       [  2.0325439 ,   0.        ,   3.94243813, ...,  10.60643768,\n",
       "         12.48051739,  10.04217911],\n",
       "       [  2.16072845,   3.94243813,   0.        , ...,  12.94781685,\n",
       "         15.27670479,   8.89304543],\n",
       "       ..., \n",
       "       [ 11.98263073,  10.60643768,  12.94781685, ...,   0.        ,\n",
       "          2.8847928 ,   9.76592064],\n",
       "       [ 14.05814457,  12.48051739,  15.27670479, ...,   2.8847928 ,\n",
       "          0.        ,  12.63375282],\n",
       "       [  9.71697235,  10.04217911,   8.89304543, ...,   9.76592064,\n",
       "         12.63375282,   0.        ]])"
      ]
     },
     "execution_count": 13,
     "metadata": {},
     "output_type": "execute_result"
    }
   ],
   "source": [
    "dists"
   ]
  },
  {
   "cell_type": "markdown",
   "metadata": {},
   "source": [
    "Note that none of the images are closer than the `d_cut` value for the medium regions (2.0 A)."
   ]
  },
  {
   "cell_type": "code",
   "execution_count": 10,
   "metadata": {
    "collapsed": false
   },
   "outputs": [],
   "source": [
    "# great!  now let's write these to trajectories\n",
    "import mdtraj as mdj\n",
    "\n",
    "ion_pdb = mdj.load_pdb('18-crown-6-K+.pdb')\n",
    "\n",
    "big_reg_reshape = big_regions.reshape((len(big_regions),ion_pdb.n_atoms,3))/10\n",
    "med_reg_reshape = med_regions.reshape((len(med_regions),ion_pdb.n_atoms,3))/10\n",
    "sml_reg_reshape = sml_regions.reshape((len(sml_regions),ion_pdb.n_atoms,3))/10\n",
    "\n",
    "mdj.Trajectory(big_reg_reshape,ion_pdb.top).save_dcd('big_regions.dcd')\n",
    "mdj.Trajectory(med_reg_reshape,ion_pdb.top).save_dcd('med_regions.dcd')\n",
    "mdj.Trajectory(sml_reg_reshape,ion_pdb.top).save_dcd('sml_regions.dcd')"
   ]
  },
  {
   "cell_type": "markdown",
   "metadata": {},
   "source": [
    "### Great, now go ahead and visualize your regions!  They are pre-aligned.\n",
    "\n",
    "There is a helpful VMD script to accomplish this:\n",
    "\n",
    "```\n",
    "vmd -e vis_align.tcl\n",
    "```\n",
    "\n",
    "### After running this script for a short run, and doing a little decorating, we get this:"
   ]
  },
  {
   "cell_type": "markdown",
   "metadata": {},
   "source": [
    "![](all_regions-01.png)"
   ]
  },
  {
   "cell_type": "markdown",
   "metadata": {
    "collapsed": true
   },
   "source": [
    "---\n",
    "## Bonus: Ring Potential example\n",
    "\n",
    "There is a great example included in the initial WESTPA-WExplore repo of a Langevin particle diffusing around a ring.  This is also included in the `examples` folder.  To run, first build the cython extensions:\n",
    "```\n",
    "~/WESTPA-WExplore> cd examples/RingPotential\n",
    "~/WESTPA-WExplore/examples/RingPotential> python setup.py build_ext --inplace\n",
    "```\n",
    "and then run `init.sh` and `run.sh`.\n",
    "\n",
    "That folder contains a great analysis script to visualize Voronoi polyhedra (written by Josh).  I recommend copying over the simulation results and `analysis.ipynb` to your local machine (if you have `ipython` installed) and launching the notebook in your browser:\n",
    "```\n",
    "ipython notebook\n",
    "```"
   ]
  },
  {
   "cell_type": "code",
   "execution_count": null,
   "metadata": {
    "collapsed": true
   },
   "outputs": [],
   "source": []
  }
 ],
 "metadata": {
  "kernelspec": {
   "display_name": "Python 2",
   "language": "python",
   "name": "python2"
  },
  "language_info": {
   "codemirror_mode": {
    "name": "ipython",
    "version": 2
   },
   "file_extension": ".py",
   "mimetype": "text/x-python",
   "name": "python",
   "nbconvert_exporter": "python",
   "pygments_lexer": "ipython2",
   "version": "2.7.12"
  }
 },
 "nbformat": 4,
 "nbformat_minor": 0
}
