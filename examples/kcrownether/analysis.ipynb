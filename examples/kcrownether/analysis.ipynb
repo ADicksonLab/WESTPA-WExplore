{
 "cells": [
  {
   "cell_type": "markdown",
   "metadata": {},
   "source": [
    "# K-crownether analysis\n",
    "\n",
    "### A demonstration of how the region centers from a WESTPA-WExplore run can be extracted and analyzed\n",
    "\n",
    "The progress coordinate here is the coordinates of the K+ atom (e.g. the X, Y, Z positions), after alignment to the crownether.  WExplore used a three-level hierarchy of Voronoi polyhedra, which are each defined by an \"image\". Here we save the coordinates of all the images in the variables `big_regions`, `med_regions` and `sml_regions`.  We measure distances between the different sets of images, and we end the demonstration by writing trajectories containing these coordinates to \"dcd\" files, which can be visualized in VMD or pymol."
   ]
  },
  {
   "cell_type": "code",
   "execution_count": null,
   "metadata": {
    "collapsed": false
   },
   "outputs": [],
   "source": [
    "import numpy as np\n",
    "import h5py\n",
    "import matplotlib.pyplot as plt\n",
    "\n",
    "import os\n",
    "import sys\n",
    "\n",
    "WEST_ROOT = os.environ['WEST_ROOT']\n",
    "for lib in ['lib/wwmgr', 'src', 'lib/west_tools']:\n",
    "    path = os.path.join(WEST_ROOT, lib)\n",
    "    if path not in sys.path:\n",
    "        sys.path.append(path)\n",
    "\n",
    "import west\n",
    "        \n",
    "%matplotlib inline"
   ]
  },
  {
   "cell_type": "code",
   "execution_count": null,
   "metadata": {
    "collapsed": true
   },
   "outputs": [],
   "source": [
    "# the data manager helps access simulation data written to the \"west.h5\" file\n",
    "data_manager = west.rc.get_data_manager()\n",
    "data_manager.open_backing(mode='r')"
   ]
  },
  {
   "cell_type": "code",
   "execution_count": null,
   "metadata": {
    "collapsed": false
   },
   "outputs": [],
   "source": [
    "string_hashes = data_manager.we_h5file['bin_topologies']['index'][:]['hash']\n",
    "all_mappers = []\n",
    "for si, shash in enumerate(string_hashes):\n",
    "    bin_mapper = data_manager.get_bin_mapper(shash)\n",
    "    all_mappers.append(bin_mapper)"
   ]
  },
  {
   "cell_type": "code",
   "execution_count": null,
   "metadata": {
    "collapsed": false
   },
   "outputs": [],
   "source": [
    "latest_mapper = all_mappers[-1]\n",
    "level_inds = latest_mapper.level_indices"
   ]
  },
  {
   "cell_type": "code",
   "execution_count": null,
   "metadata": {
    "collapsed": false
   },
   "outputs": [],
   "source": [
    "# get region indices\n",
    "biggest_regions_inds = level_inds[0]\n",
    "medium_regions_inds = level_inds[1]\n",
    "small_regions_inds = level_inds[2]\n",
    "\n",
    "# find region centers\n",
    "big_regions = latest_mapper.fetch_centers(biggest_regions_inds)\n",
    "med_regions = latest_mapper.fetch_centers(medium_regions_inds)\n",
    "sml_regions = latest_mapper.fetch_centers(small_regions_inds)\n",
    "\n",
    "print(\"There are {0} big regions, {1} medium regions, and {2} large regions\".format(len(big_regions),len(med_regions),len(sml_regions)))"
   ]
  },
  {
   "cell_type": "code",
   "execution_count": null,
   "metadata": {
    "collapsed": false
   },
   "outputs": [],
   "source": [
    "# let's calculate the distance between all of the medium regions\n",
    "\n",
    "n_med = len(med_regions)\n",
    "dists = np.zeros((n_med,n_med))\n",
    "for i, x in enumerate(med_regions):\n",
    "    for j, y in enumerate(med_regions):\n",
    "        dists[i,j] = np.linalg.norm((x-y))"
   ]
  },
  {
   "cell_type": "code",
   "execution_count": null,
   "metadata": {
    "collapsed": false
   },
   "outputs": [],
   "source": [
    "dists"
   ]
  },
  {
   "cell_type": "code",
   "execution_count": null,
   "metadata": {
    "collapsed": false
   },
   "outputs": [],
   "source": [
    "# great!  now let's write these to trajectories\n",
    "import mdtraj as mdj\n",
    "\n",
    "ion_pdb = mdj.load_pdb('18-crown-6-K+.pdb')\n",
    "\n",
    "big_reg_reshape = big_regions.reshape((len(big_regions),ion_pdb.n_atoms,3))/10\n",
    "med_reg_reshape = med_regions.reshape((len(med_regions),ion_pdb.n_atoms,3))/10\n",
    "sml_reg_reshape = sml_regions.reshape((len(sml_regions),ion_pdb.n_atoms,3))/10\n",
    "\n",
    "mdj.Trajectory(big_reg_reshape,ion_pdb.top).save_dcd('big_regions.dcd')\n",
    "mdj.Trajectory(med_reg_reshape,ion_pdb.top).save_dcd('med_regions.dcd')\n",
    "mdj.Trajectory(sml_reg_reshape,ion_pdb.top).save_dcd('sml_regions.dcd')"
   ]
  },
  {
   "cell_type": "markdown",
   "metadata": {},
   "source": [
    "### Great, now go ahead and visualize your regions!  They are pre-aligned.\n",
    "\n",
    "There is a helpful VMD script to accomplish this:\n",
    "\n",
    "```\n",
    "vmd -e vis_align.tcl\n",
    "```\n",
    "\n",
    "### After running this script, and doing a little decorating, we get this:"
   ]
  },
  {
   "cell_type": "markdown",
   "metadata": {},
   "source": [
    "![](all_regions-01.png)"
   ]
  },
  {
   "cell_type": "code",
   "execution_count": null,
   "metadata": {
    "collapsed": true
   },
   "outputs": [],
   "source": []
  }
 ],
 "metadata": {
  "kernelspec": {
   "display_name": "Python 2",
   "language": "python",
   "name": "python2"
  },
  "language_info": {
   "codemirror_mode": {
    "name": "ipython",
    "version": 2
   },
   "file_extension": ".py",
   "mimetype": "text/x-python",
   "name": "python",
   "nbconvert_exporter": "python",
   "pygments_lexer": "ipython2",
   "version": "2.7.12"
  }
 },
 "nbformat": 4,
 "nbformat_minor": 0
}
