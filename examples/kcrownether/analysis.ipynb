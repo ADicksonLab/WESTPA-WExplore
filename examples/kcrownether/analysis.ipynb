{
 "cells": [
  {
   "cell_type": "code",
   "execution_count": 2,
   "metadata": {
    "collapsed": false
   },
   "outputs": [],
   "source": [
    "import numpy as np\n",
    "import networkx as nx\n",
    "import h5py\n",
    "import matplotlib.pyplot as plt\n",
    "from mpl_toolkits.axes_grid1 import ImageGrid\n",
    "import matplotlib.cm as cm\n",
    "from matplotlib.collections import LineCollection\n",
    "\n",
    "from scipy.spatial.distance import cdist, pdist, squareform\n",
    "\n",
    "from shapely.geometry import LineString\n",
    "\n",
    "import os\n",
    "import sys\n",
    "\n",
    "WEST_ROOT = os.environ['WEST_ROOT']\n",
    "for lib in ['lib/wwmgr', 'src', 'lib/west_tools']:\n",
    "    path = os.path.join(WEST_ROOT, lib)\n",
    "    if path not in sys.path:\n",
    "        sys.path.append(path)\n",
    "\n",
    "import west\n",
    "        \n",
    "%matplotlib inline"
   ]
  },
  {
   "cell_type": "code",
   "execution_count": null,
   "metadata": {
    "collapsed": false
   },
   "outputs": [],
   "source": [
    "\n",
    "\n",
    "# h5py storage types\n",
    "#vstr_dtype = h5py.new_vlen(str)\n",
    "#idtype = np.dtype([('iter_name', vstr_dtype), ('string_index', np.int32)])"
   ]
  },
  {
   "cell_type": "code",
   "execution_count": 3,
   "metadata": {
    "collapsed": true
   },
   "outputs": [],
   "source": [
    "# the data manager helps access simulation data written to the \"west.h5\" file\n",
    "data_manager = west.rc.get_data_manager()\n",
    "data_manager.open_backing(mode='r')"
   ]
  },
  {
   "cell_type": "code",
   "execution_count": 4,
   "metadata": {
    "collapsed": false
   },
   "outputs": [],
   "source": [
    "string_hashes = data_manager.we_h5file['bin_topologies']['index'][:]['hash']\n",
    "all_mappers = []\n",
    "for si, shash in enumerate(string_hashes):\n",
    "    bin_mapper = data_manager.get_bin_mapper(shash)\n",
    "    all_mappers.append(bin_mapper)"
   ]
  },
  {
   "cell_type": "code",
   "execution_count": 13,
   "metadata": {
    "collapsed": false
   },
   "outputs": [],
   "source": [
    "latest_mapper = all_mappers[-1]\n",
    "level_inds = latest_mapper.level_indices"
   ]
  },
  {
   "cell_type": "code",
   "execution_count": 25,
   "metadata": {
    "collapsed": false
   },
   "outputs": [
    {
     "name": "stdout",
     "output_type": "stream",
     "text": [
      "There are 1 big regions, 5 medium regions, and 37 large regions\n"
     ]
    }
   ],
   "source": [
    "# get region indices\n",
    "biggest_regions_inds = level_inds[0]\n",
    "medium_regions_inds = level_inds[1]\n",
    "small_regions_inds = level_inds[2]\n",
    "\n",
    "# find region centers\n",
    "big_regions = latest_mapper.fetch_centers(biggest_regions_inds)\n",
    "med_regions = latest_mapper.fetch_centers(medium_regions_inds)\n",
    "sml_regions = latest_mapper.fetch_centers(small_regions_inds)\n",
    "\n",
    "print(\"There are {0} big regions, {1} medium regions, and {2} large regions\".format(len(big_regions),len(med_regions),len(sml_regions)))"
   ]
  },
  {
   "cell_type": "code",
   "execution_count": 26,
   "metadata": {
    "collapsed": false
   },
   "outputs": [
    {
     "data": {
      "text/plain": [
       "array([[ 37.93000031,  38.04000092,  23.36000061],\n",
       "       [ 34.00999832,  48.90999985,  33.70000076],\n",
       "       [ 32.16999817,  41.74000168,   9.77999973],\n",
       "       [ 27.87999916,  28.23999977,  15.88000011],\n",
       "       [ 23.79999924,  38.74000168,  29.28000069]], dtype=float32)"
      ]
     },
     "execution_count": 26,
     "metadata": {},
     "output_type": "execute_result"
    }
   ],
   "source": [
    "med_regions"
   ]
  },
  {
   "cell_type": "code",
   "execution_count": 28,
   "metadata": {
    "collapsed": false
   },
   "outputs": [],
   "source": [
    "# let's calculate the distance between all of the medium regions\n",
    "\n",
    "n_med = len(med_regions)\n",
    "dists = np.zeros((n_med,n_med))\n",
    "for i, x in enumerate(med_regions):\n",
    "    for j, y in enumerate(med_regions):\n",
    "        dists[i,j] = np.linalg.norm(x-y)"
   ]
  },
  {
   "cell_type": "code",
   "execution_count": 30,
   "metadata": {
    "collapsed": false
   },
   "outputs": [],
   "source": [
    "x = med_regions[1]"
   ]
  },
  {
   "cell_type": "code",
   "execution_count": 39,
   "metadata": {
    "collapsed": false
   },
   "outputs": [
    {
     "ename": "KeyError",
     "evalue": "'Unable to open object (Component not found)'",
     "output_type": "error",
     "traceback": [
      "\u001b[0;31m---------------------------------------------------------------------------\u001b[0m",
      "\u001b[0;31mKeyError\u001b[0m                                  Traceback (most recent call last)",
      "\u001b[0;32m<ipython-input-39-4672e911de5b>\u001b[0m in \u001b[0;36m<module>\u001b[0;34m()\u001b[0m\n\u001b[0;32m----> 1\u001b[0;31m \u001b[0mlist\u001b[0m\u001b[0;34m(\u001b[0m\u001b[0mdata_manager\u001b[0m\u001b[0;34m.\u001b[0m\u001b[0mwe_h5file\u001b[0m\u001b[0;34m[\u001b[0m\u001b[0;34mu'iterations/iter_00000001/pcoord'\u001b[0m\u001b[0;34m]\u001b[0m\u001b[0;34m)\u001b[0m\u001b[0;34m\u001b[0m\u001b[0m\n\u001b[0m",
      "\u001b[0;32mh5py/_objects.pyx\u001b[0m in \u001b[0;36mh5py._objects.with_phil.wrapper (-------src-dir--------/h5py/_objects.c:2582)\u001b[0;34m()\u001b[0m\n",
      "\u001b[0;32mh5py/_objects.pyx\u001b[0m in \u001b[0;36mh5py._objects.with_phil.wrapper (-------src-dir--------/h5py/_objects.c:2541)\u001b[0;34m()\u001b[0m\n",
      "\u001b[0;32m/Users/alexrd/anaconda/lib/python2.7/site-packages/h5py/_hl/group.pyc\u001b[0m in \u001b[0;36m__getitem__\u001b[0;34m(self, name)\u001b[0m\n\u001b[1;32m    164\u001b[0m                 \u001b[0;32mraise\u001b[0m \u001b[0mValueError\u001b[0m\u001b[0;34m(\u001b[0m\u001b[0;34m\"Invalid HDF5 object reference\"\u001b[0m\u001b[0;34m)\u001b[0m\u001b[0;34m\u001b[0m\u001b[0m\n\u001b[1;32m    165\u001b[0m         \u001b[0;32melse\u001b[0m\u001b[0;34m:\u001b[0m\u001b[0;34m\u001b[0m\u001b[0m\n\u001b[0;32m--> 166\u001b[0;31m             \u001b[0moid\u001b[0m \u001b[0;34m=\u001b[0m \u001b[0mh5o\u001b[0m\u001b[0;34m.\u001b[0m\u001b[0mopen\u001b[0m\u001b[0;34m(\u001b[0m\u001b[0mself\u001b[0m\u001b[0;34m.\u001b[0m\u001b[0mid\u001b[0m\u001b[0;34m,\u001b[0m \u001b[0mself\u001b[0m\u001b[0;34m.\u001b[0m\u001b[0m_e\u001b[0m\u001b[0;34m(\u001b[0m\u001b[0mname\u001b[0m\u001b[0;34m)\u001b[0m\u001b[0;34m,\u001b[0m \u001b[0mlapl\u001b[0m\u001b[0;34m=\u001b[0m\u001b[0mself\u001b[0m\u001b[0;34m.\u001b[0m\u001b[0m_lapl\u001b[0m\u001b[0;34m)\u001b[0m\u001b[0;34m\u001b[0m\u001b[0m\n\u001b[0m\u001b[1;32m    167\u001b[0m \u001b[0;34m\u001b[0m\u001b[0m\n\u001b[1;32m    168\u001b[0m         \u001b[0motype\u001b[0m \u001b[0;34m=\u001b[0m \u001b[0mh5i\u001b[0m\u001b[0;34m.\u001b[0m\u001b[0mget_type\u001b[0m\u001b[0;34m(\u001b[0m\u001b[0moid\u001b[0m\u001b[0;34m)\u001b[0m\u001b[0;34m\u001b[0m\u001b[0m\n",
      "\u001b[0;32mh5py/_objects.pyx\u001b[0m in \u001b[0;36mh5py._objects.with_phil.wrapper (-------src-dir--------/h5py/_objects.c:2582)\u001b[0;34m()\u001b[0m\n",
      "\u001b[0;32mh5py/_objects.pyx\u001b[0m in \u001b[0;36mh5py._objects.with_phil.wrapper (-------src-dir--------/h5py/_objects.c:2541)\u001b[0;34m()\u001b[0m\n",
      "\u001b[0;32mh5py/h5o.pyx\u001b[0m in \u001b[0;36mh5py.h5o.open (-------src-dir--------/h5py/h5o.c:3551)\u001b[0;34m()\u001b[0m\n",
      "\u001b[0;31mKeyError\u001b[0m: 'Unable to open object (Component not found)'"
     ]
    }
   ],
   "source": [
    "list(data_manager.we_h5file[u'iterations/iter_00000001/pcoord'])"
   ]
  },
  {
   "cell_type": "code",
   "execution_count": null,
   "metadata": {
    "collapsed": true
   },
   "outputs": [],
   "source": []
  },
  {
   "cell_type": "code",
   "execution_count": null,
   "metadata": {
    "collapsed": false
   },
   "outputs": [],
   "source": [
    "# Bin data\n",
    "mappers = []\n",
    "mapper_dict = {}\n",
    "\n",
    "\n",
    "data_manager = west.rc.get_data_manager()\n",
    "data_manager.open_backing(mode='r')\n",
    "\n",
    "# Get each mapper stored in the unique bin_mapper objects\n",
    "string_hashes = data_manager.we_h5file['bin_topologies']['index'][:]['hash']\n",
    "n_strings = string_hashes.size\n",
    "\n",
    "for si, shash in enumerate(string_hashes):\n",
    "    bin_mapper = data_manager.get_bin_mapper(shash)\n",
    "    mappers.append(bin_mapper)\n",
    "    \n",
    "# Get per iteration mapper\n",
    "iterations = data_manager.we_h5file['iterations'].keys()\n",
    "n_iters = len(iterations)\n",
    "\n",
    "for iiter, iter_name in enumerate(iterations):\n",
    "    if iiter % 100 == 0:\n",
    "        print 'Processing {} of {}'.format(iiter, n_iters)\n",
    "\n",
    "    try:\n",
    "        iter_group = data_manager.we_h5file['iterations'][iter_name]\n",
    "        if 'binhash' in iter_group.attrs:\n",
    "            binhash = iter_group.attrs['binhash']\n",
    "            string_index = data_manager.find_bin_mapper(binhash)\n",
    "        else:\n",
    "            string_index = -1\n",
    "    except:\n",
    "        print 'Error in processing iteration {}'.format(iter_name)\n",
    "        print sys.exc_info()\n",
    "        break\n",
    "        \n",
    "    mapper_dict[iter_name] = string_index\n",
    "\n",
    "\n",
    "data_manager.close_backing()"
   ]
  },
  {
   "cell_type": "code",
   "execution_count": null,
   "metadata": {
    "collapsed": false
   },
   "outputs": [],
   "source": [
    "def plot_voronoi_orig(ax, points, lw, color):\n",
    "\n",
    "    PL = []\n",
    "    for p in points:\n",
    "        PL.append(Voronoi.Site(x=p[0],y=p[1]))\n",
    "\n",
    "    v,eqn,edges,wtf = Voronoi.computeVoronoiDiagram(PL)\n",
    "\n",
    "    edge_points=[]\n",
    "    for (l,x1,x2) in edges:\n",
    "        if x1>=0 and x2>=0:\n",
    "            edge_points.append((v[x1],v[x2]))\n",
    "\n",
    "    lines = LineCollection(edge_points, linewidths=lw, color=color)\n",
    "    \n",
    "    ax.add_collection(lines)\n",
    "\n",
    "    return edge_points"
   ]
  },
  {
   "cell_type": "code",
   "execution_count": null,
   "metadata": {
    "collapsed": false
   },
   "outputs": [],
   "source": [
    "def compute_voronoi_lines(points):\n",
    "    PL = []\n",
    "    for p in points:\n",
    "        PL.append(Voronoi.Site(x=p[0],y=p[1]))\n",
    "\n",
    "    v,eqn,edges,wtf = Voronoi.computeVoronoiDiagram(PL)\n",
    "\n",
    "    edge_points=[]\n",
    "    for (l,x1,x2) in edges:\n",
    "        if x1>=0 and x2>=0:\n",
    "            edge_points.append((v[x1],v[x2]))\n",
    "\n",
    "    return edge_points\n",
    "    \n",
    "def get_centers(mapper, node_ix):\n",
    "    _centers = mapper.fetch_centers(node_ix)\n",
    "    ncenters = _centers.shape[0]\n",
    "\n",
    "    # Add bounding points\n",
    "    centers = np.empty((ncenters + 4, 2), np.float32)\n",
    "    centers[4:,:] = _centers\n",
    "\n",
    "    sf = 50\n",
    "    xmin, ymin = np.min(_centers, axis=0) - sf\n",
    "    xmax, ymax = sf + np.max(_centers, axis=0)\n",
    "    centers[0,:] = [xmin, ymin]\n",
    "    centers[1,:] = [xmin, ymax]\n",
    "    centers[2,:] = [xmax, ymin]\n",
    "    centers[3,:] = [xmax, ymax]\n",
    "    \n",
    "    return centers\n",
    "    \n",
    "def plot_voronoi(ax, mapper):\n",
    "    lw = [4, 2, 0.7]\n",
    "    color = ['k', 'k', 'k']\n",
    "    delta = 0.1\n",
    "    G = mapper.bin_graph\n",
    "    parent_lines = []\n",
    "    for li, level_ix in enumerate(mapper.level_indices[:-1]):\n",
    "        centers = get_centers(mapper, level_ix)\n",
    "        edge_points = compute_voronoi_lines(centers)\n",
    "         \n",
    "        if li == 0:\n",
    "            lines = LineCollection(edge_points, linewidths=lw[li], color=color[0])\n",
    "            ax.add_collection(lines)\n",
    "            for ep in edge_points:\n",
    "                parent_lines.append(LineString(ep))\n",
    "        \n",
    "        #ax.plot(centers[:,0], centers[:,1], '.', color=color[li], ms=8*lw[li])\n",
    "        \n",
    "        for k, nix in enumerate(level_ix):\n",
    "            c = centers[k + 4]\n",
    "            \n",
    "            \n",
    "            successors = nx.DiGraph.successors(G, nix)\n",
    "            succ_centers = get_centers(mapper, successors)\n",
    "            succ_edge_points = compute_voronoi_lines(succ_centers)\n",
    "            \n",
    "            #lines = LineCollection(succ_edge_points, linewidths=lw[li+1], color=color[li+1])\n",
    "            #ax.add_collection(lines)\n",
    "            #ax.plot(succ_centers[:,0], succ_centers[:,1], '.', color=color[li+1], ms=8*lw[li+1])\n",
    "            \n",
    "            new_edge_points = []\n",
    "            \n",
    "            # Determine the closest point that a successor edge\n",
    "            # crosses a parent edge\n",
    "            for sep in succ_edge_points:\n",
    "                # if both end points are closer to another center, skip\n",
    "                pp = np.array([[sep[0][0], sep[0][1]], [sep[1][0], sep[1][1]]])\n",
    "                d = cdist(pp, centers[4:])\n",
    "                mdc1, mdc2 = np.argmin(d, axis=1)\n",
    "                if mdc1 != k and mdc2 != k:\n",
    "                    continue\n",
    "                \n",
    "                \n",
    "                line_succ = LineString(sep)\n",
    "                intersection_points = []\n",
    "                for line_parent in parent_lines:\n",
    "                    ip = line_succ.intersection(line_parent)\n",
    "                    if not ip.is_empty:\n",
    "                        #print '----'\n",
    "                        #print line_succ\n",
    "                        #print ip\n",
    "                        #print line_parent\n",
    "                        #print '----'\n",
    "                        if not ip == line_succ:\n",
    "                            intersection_points.append([ip.x, ip.y])\n",
    "                    \n",
    "                # Determine successor edge point that's closest to parent center\n",
    "                # and still in the cell\n",
    "                d1 = d[0,k]  #(sep[0][0] - c[0])**2 + (sep[0][1] - c[1])**2\n",
    "                d2 = d[1,k]  #(sep[1][0] - c[0])**2 + (sep[1][1] - c[1])**2\n",
    "                \n",
    "                if d1 < d2 and mdc1 == k:\n",
    "                    p1 = sep[0]\n",
    "                    indx = 0\n",
    "                else:\n",
    "                    p1 = sep[1]\n",
    "                    indx = 1\n",
    "                \n",
    "                # Determine closest intersection point to p1\n",
    "                if len(intersection_points):\n",
    "                    d = cdist(np.array([p1]), np.array(intersection_points))\n",
    "                    p2 = intersection_points[np.argmin(d)]\n",
    "                else:\n",
    "                    p2 = sep[1] if indx == 0 else sep[0]\n",
    "                \n",
    "                \n",
    "                new_edge_points.append((p1, p2))\n",
    "                #parent_lines.append(LineString((p1,p2)))\n",
    "                \n",
    "            slines = LineCollection(new_edge_points, linewidths=lw[li+1], color=color[li+1])\n",
    "            ax.add_collection(slines)\n",
    "            for ep in new_edge_points:\n",
    "                parent_lines.append(LineString(ep))\n",
    "                \n",
    "            "
   ]
  },
  {
   "cell_type": "code",
   "execution_count": null,
   "metadata": {
    "collapsed": false
   },
   "outputs": [],
   "source": [
    "fig = plt.figure(figsize=(8,8))\n",
    "ax = fig.add_subplot(111)\n",
    "m = mappers[2]\n",
    "plot_voronoi(ax, m)\n",
    "ax.contourf(X, Y, V, clines, cmap=my_cmap)\n",
    "ax.text(0.05, 0.95, 'Iteration: {}'.format(3),\n",
    "        horizontalalignment='left',\n",
    "        verticalalignment='top',\n",
    "        fontsize=16,\n",
    "        transform=ax.transAxes)\n",
    "ax.set_xlim(-5,5)\n",
    "ax.set_ylim(-5,5)"
   ]
  },
  {
   "cell_type": "code",
   "execution_count": null,
   "metadata": {
    "collapsed": false
   },
   "outputs": [],
   "source": [
    "fig = plt.figure(figsize=(12,12))\n",
    "grid = ImageGrid(fig, 111, # similar to subplot(111)\n",
    "                nrows_ncols = (3, 3), # creates 2x2 grid of axes\n",
    "                axes_pad=0.1, # pad between axes in inch.\n",
    "                )\n",
    "\n",
    "for ii, niter in enumerate([2, 5,10, 20, 25, 50, 100, 150, 199]):\n",
    "    print 'Iteration: {}'.format(niter)\n",
    "    ax = grid[ii]\n",
    "    m = mappers[niter]\n",
    "    plot_voronoi(ax, m)\n",
    "    ax.contourf(X, Y, V, clines, cmap=my_cmap)\n",
    "    t = ax.text(0.05, 0.95, 'Iteration: {}'.format(niter),\n",
    "        horizontalalignment='left',\n",
    "        verticalalignment='top',\n",
    "        fontsize=15,\n",
    "        transform=ax.transAxes)\n",
    "    t.set_bbox(dict(color='white', alpha=0.7, edgecolor='white'))\n",
    "    ax.set_xlim(-5,5)\n",
    "    ax.set_ylim(-5,5)\n",
    "    \n",
    "plt.savefig('binspace.png')"
   ]
  },
  {
   "cell_type": "code",
   "execution_count": null,
   "metadata": {
    "collapsed": false
   },
   "outputs": [],
   "source": [
    "m = mappers[-1]\n",
    "G = m.bin_graph\n",
    "for li, level_ix in enumerate(m.level_indices[:-1]):\n",
    "    centers = get_centers(m, level_ix)[4:]\n",
    "    for k, nix in enumerate(level_ix):\n",
    "        successors = G.successors(nix)\n",
    "        succ_centers = get_centers(m, successors)[4:]\n",
    "        \n",
    "        d = cdist(succ_centers, centers)\n",
    "        \n",
    "        plt.figure()\n",
    "        plt.plot(centers[:,0], centers[:,1], 'k.', ms=12)\n",
    "        plt.plot(succ_centers[:,0], succ_centers[:,1], 'r.', ms=8)\n",
    "        plt.xlim(-5,5)\n",
    "        plt.ylim(-5,5)\n",
    "        \n",
    "        for ii, si in enumerate(successors):\n",
    "            x = succ_centers[ii,0]\n",
    "            y = succ_centers[ii,1]\n",
    "            \n",
    "            plt.annotate(si, (x,y), (x + 0.1, y + 0.1), color='r')\n",
    "            \n",
    "        for ii, si in enumerate(level_ix):\n",
    "            x = centers[ii,0]\n",
    "            y = centers[ii,1]\n",
    "            \n",
    "            plt.annotate(si, (x,y), (x - 0.4, y - 0.4), color='k')\n",
    "        \n",
    "\n"
   ]
  },
  {
   "cell_type": "code",
   "execution_count": null,
   "metadata": {
    "collapsed": false
   },
   "outputs": [],
   "source": [
    "len(mappers)"
   ]
  },
  {
   "cell_type": "code",
   "execution_count": null,
   "metadata": {
    "collapsed": false
   },
   "outputs": [],
   "source": []
  }
 ],
 "metadata": {
  "kernelspec": {
   "display_name": "Python 2",
   "language": "python",
   "name": "python2"
  },
  "language_info": {
   "codemirror_mode": {
    "name": "ipython",
    "version": 2
   },
   "file_extension": ".py",
   "mimetype": "text/x-python",
   "name": "python",
   "nbconvert_exporter": "python",
   "pygments_lexer": "ipython2",
   "version": "2.7.12"
  }
 },
 "nbformat": 4,
 "nbformat_minor": 0
}
